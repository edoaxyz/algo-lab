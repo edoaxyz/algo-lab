{
 "cells": [
  {
   "cell_type": "markdown",
   "metadata": {},
   "source": [
    "## <center><sub><sup><sub><sup>Relazione di</sup></sub></sup></sub> <br> Laboratorio di Algoritmi e Strutture Dati</center>\n",
    "\n",
    "In questo Jupyter Notebook affronteremo il secondo esercizio assegnato: confronto tra gli algoritmi di ordinamento *Insertion Sort* e *Merge Sort*. Per eseguire questo notebook utilizzeremo la versione 11.3.5 di Python.\n",
    "\n",
    "### Introduzione al problema\n",
    "Gli algoritmi di ordinamento vengono utilizzati per risolvere il problema dell'ordinamento: data una sequenza di $n$ numeri $A = <a_1, a_2, ..., a_n>$ trovare una permutazione di $A$ che chiameremo $A'=<a_1', a_2', ..., a_n'>$ con $a_i' \\in A$ tale che $a_i' \\leq a_{i+1}' \\, \\forall i \\in {1, ... n-1}$. Tra i più noti abbiamo: *Bubble Sort*, *Insertion Sort*, *Merge Sort*, *Quicksort*, *Heap sort*.\n",
    "\n",
    "#### Insertion Sort\n",
    "Questo tipo di ordinamento è tale per cui ogni elemento viene confrontato con i precedenti per verificare se sia maggiore rispetto ad essi e nel caso non lo sia sposta tutti gli elementi dopo quello maggiore ad esso verso destra per inserirlo subito prima del maggiore. L'ordinamento avviene quindi sul posto, senza necessità di dover creare ulteriori sequenze di elementi. Si può comprendere\n",
    "meglio attraverso il suo codice *Python*:"
   ]
  },
  {
   "cell_type": "code",
   "execution_count": 1,
   "metadata": {},
   "outputs": [],
   "source": [
    "def insertion_sort(A: list):\n",
    "    for j in range(1, len(A)):\n",
    "        key = A[j]\n",
    "        i = j - 1\n",
    "        while i >= 0 and A[i] > key:\n",
    "            A[i + 1] = A[i]\n",
    "            i -= 1\n",
    "        A[i + 1] = key"
   ]
  },
  {
   "cell_type": "markdown",
   "metadata": {},
   "source": [
    "dove `A` è una lista contenente numeri.\n",
    "\n",
    "Analizzando la complessità temporale di *Insertion Sort* con $n$ elementi si può notare che:\n",
    " - nel caso migliore, ovvero quando tutti gli elementi sono già ordinati, l'algoritmo impiega un tempo pari a $\\Theta(n)$;\n",
    " - nel resto dei casi, ovvero casi medi e peggiori, l'algoritmo impiega un tempo pari a $\\Theta(n^2)$ quindi quadratico.\n",
    "\n",
    "Per quanto riguarda la complessità spaziale, come detto precedentemente, gli elementi vengono scambiati della lista vengono scambiati sul posto e non c'è alcuna ulteriore occupazione di memoria, se non quella della lista, quindi si considera questa come $\\Theta(1)$.\n",
    "\n",
    "### Merge sort\n",
    "\n",
    "L'algoritmo di *Merge Sort* si basa sull'approccio *Divide et impera*, per cui il problema di ordinamento viene diviso ricorsivamente in due sottoproblemi fin quando la lista da ordinare non è composta da un solo elemento: in quel caso la lista è implicitamente ordinata e quindi si ha il caso base della ricorsione. *Merge sort* quindi divide ad ogni passo la lista in esame in due sottoliste rispetto all'elemento centrale della lista, e utilizza richiamando lo stesso algoritmo su di esse; una volta che gli algoritmi terminano si riordinano gli elementi delle due sottoliste ordinate in modo tale da avere la lista originaria ordinata. Vediamo l'algoritmo scritto in *Python*:"
   ]
  },
  {
   "cell_type": "code",
   "execution_count": 2,
   "metadata": {},
   "outputs": [],
   "source": [
    "def merge(A: list, start: int, middle: int, end: int):\n",
    "    left = A[start:middle] + [float(\"inf\")]\n",
    "    right = A[middle:end] + [float(\"inf\")]\n",
    "    i = 0\n",
    "    j = 0\n",
    "    for k in range(start, end):\n",
    "        if left[i] <= right[j]:\n",
    "            A[k] = left[i]\n",
    "            i += 1\n",
    "        else:\n",
    "            A[k] = right[j]\n",
    "            j += 1\n",
    "\n",
    "\n",
    "def merge_sort(A: list, start: int = 0, end: int = -1):\n",
    "    if end == -1:\n",
    "        end = len(A)\n",
    "    if end - start > 1:\n",
    "        middle = (start + end) // 2\n",
    "        merge_sort(A, start, middle)\n",
    "        merge_sort(A, middle, end)\n",
    "        merge(A, start, middle, end)"
   ]
  },
  {
   "cell_type": "markdown",
   "metadata": {},
   "source": [
    "e la chiamata iniziale all'algoritmo viene fatta semplicemente chiamando <code>merge_sort(*lista*)</code>.\n",
    "\n",
    "Anche in questo caso possiamo analizzare la complessità temporale, che risulta migliore in gran parte dei casi rispetto a *Insertion Sort*, infatti in tutti i casi (peggiore, migliore e medio) l'algoritmo ha sempre un costo pari a $\\Theta(n\\log_2n)$ con $n$ numero di elementi nella lista. Solo nel caso migliore si ha un costo maggiore rispetto a *Insertion Sort*. Analizzando invece la complessità spaziale si nota che ad ogni passo della ricorsione, l'algoritmo si crea una copia di una parte (o di tutta) la lista originale, pertanto ha una complessità spaziale pari a $O(n)$."
   ]
  },
  {
   "cell_type": "markdown",
   "metadata": {},
   "source": [
    "### Test svolti\n",
    "Nei test predisposti verranno verificate solo le complessità temporali, infatti per l'analisi delle complessità spaziali *Python* non fornisce strumenti adeguati compatibili con Jupyter Notebbok per la misurazione dell'utilizzo di memoria se non con input enormi (si parla di liste con più di un milione di elementi) che conseguentemente richiedono tempi molto maggiori, infatti gli strumenti presenti tendono ad aumentare i tempi di esecuzione. Verranno quindi verificate solo le complessità temporali nei tre casi: migliore, medio e peggiore.\n",
    "\n",
    "Per la misurazione dei tempi di esecuzione utilizzeremo la funzione qui di seguito che avvalendosi della funzione *time()* della libreria *Python* *time* calcola il tempo come differenza tra un timestamp iniziale ottenuto immediatamente prima l'esecuzione della funzione e il timestamp finale ottenuto immediatamente dopo il termine delle funzione. Non è una misurazione precisa, ma accettabile per i test che dovremmo eseguire."
   ]
  },
  {
   "cell_type": "code",
   "execution_count": 3,
   "metadata": {},
   "outputs": [],
   "source": [
    "import time\n",
    "\n",
    "\n",
    "def time_function(function, *args, **kwargs):\n",
    "    start = time.time()\n",
    "    function(*args, **kwargs)\n",
    "    return time.time() - start"
   ]
  },
  {
   "cell_type": "markdown",
   "metadata": {},
   "source": [
    "Dopo che l'esecuzione della funzione di ordinamento è stata eseguita (e ne sono stati calcolati i tempi) una funzione scritta qui di seguito verifica la correttezza dell'ordinamento (crescente), e nel caso questa non fosse verificata genera un'eccezione che termina l'esecuzione del codice."
   ]
  },
  {
   "cell_type": "code",
   "execution_count": 4,
   "metadata": {},
   "outputs": [],
   "source": [
    "def check_sort(list):\n",
    "    if len(list) <= 1:\n",
    "        return True\n",
    "    prev = list[0]\n",
    "    for val in list[1:]:\n",
    "        if prev > val:\n",
    "            return False\n",
    "        prev = val\n",
    "    return True"
   ]
  },
  {
   "cell_type": "markdown",
   "metadata": {},
   "source": [
    "Parlando invece dei dati che verranno passati alle funzioni di ordinamento, tenendo conto di dover misurare le prestazioni degli algoritmi nei 3 casi sopra citati, dovranno essere utilizzate 3 sorgenti di dati per l'analisi:\n",
    " - nei casi migliori verranno generati numeri ordinati (e sempre diversi) in modo crescente attraverso la funzione *range* di *Python*;\n",
    " - nei casi peggiori verranno generati numeri ordinati (e sempre diversi) in modo decrescente sempre sfruttando la funzione *range*;\n",
    " - nei casi medi le liste di numeri verranno generate in maniera casuale usando la funzione della libreria *numpy* *np.random.randint* senza però garantire di avere sempre numeri diversi all'interno della lista.\n",
    "Le liste di numeri vengono generate in modo tale da avere un numero crescente di elementi, che parte da 500 fino ad arrivare a 5000 con un avanzamento di 500 elementi a volta.\n",
    "\n",
    "I test vengono ripetuti su ogni singola lista di elementi per tre volte, per ogni algoritmo, e alla fine viene calcolata la mediana di questi tempi, in modo da evitare outlier nei grafici corrispondenti."
   ]
  },
  {
   "cell_type": "code",
   "execution_count": 5,
   "metadata": {},
   "outputs": [],
   "source": [
    "import numpy as np\n",
    "\n",
    "ROUNDS = 3\n",
    "RANGE = range(500, 5100, 500)\n",
    "FUNCTIONS = {insertion_sort: \"Insertion Sort\", merge_sort: \"Merge Sort\"}\n",
    "\n",
    "samples = {\n",
    "    \"worst\": [list(range(size, -1, -1)) for size in RANGE],\n",
    "    \"average\": [list(np.random.randint(size, size=size)) for size in RANGE],\n",
    "    \"best\": [list(range(size)) for size in RANGE],\n",
    "}\n",
    "results = {\n",
    "    function: {\n",
    "        k: [{r: None for r in range(ROUNDS)} for i in range(len(samples[k]))]\n",
    "        for k in samples.keys()\n",
    "    }\n",
    "    for function in FUNCTIONS.keys()\n",
    "}\n",
    "\n",
    "for r in range(ROUNDS):\n",
    "    for function in results.keys():\n",
    "        for sample_type, samples_list in samples.items():\n",
    "            for sample_index, sample in enumerate(samples_list):\n",
    "                sample_instance = list(sample)\n",
    "                results[function][sample_type][sample_index][r] = time_function(\n",
    "                    function, sample_instance\n",
    "                )\n",
    "                if not check_sort(sample_instance):\n",
    "                    raise Exception(\"Sample not sorted correctly\")\n",
    "\n",
    "for r in range(ROUNDS):\n",
    "    for function in results.keys():\n",
    "        for sample_type, samples_list in samples.items():\n",
    "            for sample_index in range(len(samples_list)):\n",
    "                times = results[function][sample_type][sample_index]\n",
    "                times[\"median\"] = np.median(list(times.values()))"
   ]
  },
  {
   "cell_type": "markdown",
   "metadata": {},
   "source": [
    "Per visualizzare e confrontare i risultati sui tempi vengono generati dei grafici tramite la libreria *matplotlib* attraverso la funzione definita di seguito. Questa prende come argomento il caso da visualizzare (medio, peggiore, migliore) e sulla base di questo crea i grafici con i tempi contenuti nella variabile globale *results*. In ogni grafico vengono visualizzate le curve di entrambi gli algoritmi."
   ]
  },
  {
   "cell_type": "code",
   "execution_count": 6,
   "metadata": {},
   "outputs": [],
   "source": [
    "from IPython.display import display\n",
    "\n",
    "import pandas as pd\n",
    "import matplotlib.pyplot as plt\n",
    "\n",
    "\n",
    "def show_plot(sample_type):\n",
    "    for function, name in FUNCTIONS.items():\n",
    "        plt.plot(\n",
    "            RANGE,\n",
    "            [values[\"median\"] for values in results[function][sample_type]],\n",
    "            label=name,\n",
    "        )\n",
    "    plt.legend(loc=\"best\")\n",
    "    plt.xlabel(\"Elementi\")\n",
    "    plt.ylabel(\"Tempo (s)\")\n",
    "    plt.show()\n",
    "    df = pd.DataFrame(\n",
    "        [\n",
    "            [\n",
    "                els,\n",
    "                results[insertion_sort][sample_type][index][\"median\"],\n",
    "                results[merge_sort][sample_type][index][\"median\"],\n",
    "            ]\n",
    "            for index, els in enumerate(RANGE)\n",
    "        ],\n",
    "        columns=[\"Elementi\", \"Insertion Sort\", \"Merge Sort\"],\n",
    "    )\n",
    "    display(df)"
   ]
  },
  {
   "cell_type": "markdown",
   "metadata": {},
   "source": [
    "### Risultati dei test\n",
    "Nei risultati andiamo a confrontare le curve generate con le funzioni di costo previste descritte nel paragrafo *Introduzione al problema*. Utilizzando la funzione *show_plot* possiamo mostrare le curve ottenute.\n",
    "\n",
    "#### Caso migliore\n",
    "Come già detto, il caso migliore si verifica quando gli elementi della lista sono già ordinati (in questo caso in ordine crescente), e avevevamo individuato un tempo pari a $\\Theta(n)$ per *Insertion Sort* e $\\Theta(n\\log_2n)$ per *Merge Sort*."
   ]
  },
  {
   "cell_type": "code",
   "execution_count": 7,
   "metadata": {},
   "outputs": [
    {
     "data": {
      "image/png": "[encoded data removed]",
      "text/plain": [
       "<Figure size 640x480 with 1 Axes>"
      ]
     },
     "metadata": {},
     "output_type": "display_data"
    },
    {
     "data": {
      "text/html": [
       "<div>\n",
       "<style scoped>\n",
       "    .dataframe tbody tr th:only-of-type {\n",
       "        vertical-align: middle;\n",
       "    }\n",
       "\n",
       "    .dataframe tbody tr th {\n",
       "        vertical-align: top;\n",
       "    }\n",
       "\n",
       "    .dataframe thead th {\n",
       "        text-align: right;\n",
       "    }\n",
       "</style>\n",
       "<table border=\"1\" class=\"dataframe\">\n",
       "  <thead>\n",
       "    <tr style=\"text-align: right;\">\n",
       "      <th></th>\n",
       "      <th>Elementi</th>\n",
       "      <th>Insertion Sort</th>\n",
       "      <th>Merge Sort</th>\n",
       "    </tr>\n",
       "  </thead>\n",
       "  <tbody>\n",
       "    <tr>\n",
       "      <th>0</th>\n",
       "      <td>500</td>\n",
       "      <td>0.000208</td>\n",
       "      <td>0.001354</td>\n",
       "    </tr>\n",
       "    <tr>\n",
       "      <th>1</th>\n",
       "      <td>1000</td>\n",
       "      <td>0.000424</td>\n",
       "      <td>0.002902</td>\n",
       "    </tr>\n",
       "    <tr>\n",
       "      <th>2</th>\n",
       "      <td>1500</td>\n",
       "      <td>0.000608</td>\n",
       "      <td>0.005993</td>\n",
       "    </tr>\n",
       "    <tr>\n",
       "      <th>3</th>\n",
       "      <td>2000</td>\n",
       "      <td>0.000487</td>\n",
       "      <td>0.006023</td>\n",
       "    </tr>\n",
       "    <tr>\n",
       "      <th>4</th>\n",
       "      <td>2500</td>\n",
       "      <td>0.000379</td>\n",
       "      <td>0.007284</td>\n",
       "    </tr>\n",
       "    <tr>\n",
       "      <th>5</th>\n",
       "      <td>3000</td>\n",
       "      <td>0.000408</td>\n",
       "      <td>0.010682</td>\n",
       "    </tr>\n",
       "    <tr>\n",
       "      <th>6</th>\n",
       "      <td>3500</td>\n",
       "      <td>0.000477</td>\n",
       "      <td>0.012425</td>\n",
       "    </tr>\n",
       "    <tr>\n",
       "      <th>7</th>\n",
       "      <td>4000</td>\n",
       "      <td>0.000543</td>\n",
       "      <td>0.013161</td>\n",
       "    </tr>\n",
       "    <tr>\n",
       "      <th>8</th>\n",
       "      <td>4500</td>\n",
       "      <td>0.000614</td>\n",
       "      <td>0.015412</td>\n",
       "    </tr>\n",
       "    <tr>\n",
       "      <th>9</th>\n",
       "      <td>5000</td>\n",
       "      <td>0.000695</td>\n",
       "      <td>0.022763</td>\n",
       "    </tr>\n",
       "  </tbody>\n",
       "</table>\n",
       "</div>"
      ],
      "text/plain": [
       "   Elementi  Insertion Sort  Merge Sort\n",
       "0       500        0.000208    0.001354\n",
       "1      1000        0.000424    0.002902\n",
       "2      1500        0.000608    0.005993\n",
       "3      2000        0.000487    0.006023\n",
       "4      2500        0.000379    0.007284\n",
       "5      3000        0.000408    0.010682\n",
       "6      3500        0.000477    0.012425\n",
       "7      4000        0.000543    0.013161\n",
       "8      4500        0.000614    0.015412\n",
       "9      5000        0.000695    0.022763"
      ]
     },
     "metadata": {},
     "output_type": "display_data"
    }
   ],
   "source": [
    "show_plot(\"best\")"
   ]
  },
  {
   "cell_type": "markdown",
   "metadata": {},
   "source": [
    "Il risultato conferma le leggi individuate, infatti la curva di *Merge Sort* sale molto più rapidamente rispetto alla curva di *Insertion Sort*, quindi *Insertion Sort* si conferma migliore nel caso migliore.\n",
    "\n",
    "#### Caso medio\n",
    "Nel caso medio si considerano gli elementi ordinati in maniera casuale, quindi senza seguire alcuna legge. Per *Insertion Sort* avevamo individuato una complessità temporale pari a $\\Theta(n^2)$, mentre per *Merge Sort* $\\Theta(n\\log_2n)$."
   ]
  },
  {
   "cell_type": "code",
   "execution_count": 8,
   "metadata": {},
   "outputs": [
    {
     "data": {
      "image/png": "[encoded data removed]",
      "text/plain": [
       "<Figure size 640x480 with 1 Axes>"
      ]
     },
     "metadata": {},
     "output_type": "display_data"
    },
    {
     "data": {
      "text/html": [
       "<div>\n",
       "<style scoped>\n",
       "    .dataframe tbody tr th:only-of-type {\n",
       "        vertical-align: middle;\n",
       "    }\n",
       "\n",
       "    .dataframe tbody tr th {\n",
       "        vertical-align: top;\n",
       "    }\n",
       "\n",
       "    .dataframe thead th {\n",
       "        text-align: right;\n",
       "    }\n",
       "</style>\n",
       "<table border=\"1\" class=\"dataframe\">\n",
       "  <thead>\n",
       "    <tr style=\"text-align: right;\">\n",
       "      <th></th>\n",
       "      <th>Elementi</th>\n",
       "      <th>Insertion Sort</th>\n",
       "      <th>Merge Sort</th>\n",
       "    </tr>\n",
       "  </thead>\n",
       "  <tbody>\n",
       "    <tr>\n",
       "      <th>0</th>\n",
       "      <td>500</td>\n",
       "      <td>0.010151</td>\n",
       "      <td>0.004736</td>\n",
       "    </tr>\n",
       "    <tr>\n",
       "      <th>1</th>\n",
       "      <td>1000</td>\n",
       "      <td>0.053097</td>\n",
       "      <td>0.006213</td>\n",
       "    </tr>\n",
       "    <tr>\n",
       "      <th>2</th>\n",
       "      <td>1500</td>\n",
       "      <td>0.100016</td>\n",
       "      <td>0.013439</td>\n",
       "    </tr>\n",
       "    <tr>\n",
       "      <th>3</th>\n",
       "      <td>2000</td>\n",
       "      <td>0.189594</td>\n",
       "      <td>0.018605</td>\n",
       "    </tr>\n",
       "    <tr>\n",
       "      <th>4</th>\n",
       "      <td>2500</td>\n",
       "      <td>0.256342</td>\n",
       "      <td>0.029686</td>\n",
       "    </tr>\n",
       "    <tr>\n",
       "      <th>5</th>\n",
       "      <td>3000</td>\n",
       "      <td>0.352615</td>\n",
       "      <td>0.024171</td>\n",
       "    </tr>\n",
       "    <tr>\n",
       "      <th>6</th>\n",
       "      <td>3500</td>\n",
       "      <td>0.524961</td>\n",
       "      <td>0.028475</td>\n",
       "    </tr>\n",
       "    <tr>\n",
       "      <th>7</th>\n",
       "      <td>4000</td>\n",
       "      <td>0.709942</td>\n",
       "      <td>0.041658</td>\n",
       "    </tr>\n",
       "    <tr>\n",
       "      <th>8</th>\n",
       "      <td>4500</td>\n",
       "      <td>0.865312</td>\n",
       "      <td>0.036359</td>\n",
       "    </tr>\n",
       "    <tr>\n",
       "      <th>9</th>\n",
       "      <td>5000</td>\n",
       "      <td>1.019676</td>\n",
       "      <td>0.043386</td>\n",
       "    </tr>\n",
       "  </tbody>\n",
       "</table>\n",
       "</div>"
      ],
      "text/plain": [
       "   Elementi  Insertion Sort  Merge Sort\n",
       "0       500        0.010151    0.004736\n",
       "1      1000        0.053097    0.006213\n",
       "2      1500        0.100016    0.013439\n",
       "3      2000        0.189594    0.018605\n",
       "4      2500        0.256342    0.029686\n",
       "5      3000        0.352615    0.024171\n",
       "6      3500        0.524961    0.028475\n",
       "7      4000        0.709942    0.041658\n",
       "8      4500        0.865312    0.036359\n",
       "9      5000        1.019676    0.043386"
      ]
     },
     "metadata": {},
     "output_type": "display_data"
    }
   ],
   "source": [
    "show_plot(\"average\")"
   ]
  },
  {
   "cell_type": "markdown",
   "metadata": {},
   "source": [
    "Anche in questo caso si riconfermano i tempi individuati: per *Insertion Sort* la curva assume una forma quadratica, mentre per *Merge Sort* la curva risulta molto più piatta con una forma quasi lineare, infatti con 5000 elementi da ordinare, *Insertion Sort* richiede un tempo di $\\sim$ 1 secondo, mentre *Merge Sort* qualche decina di millisecondi. Un aspetto da notare è che i tempi aumentano anche per *Merge Sort* se confrontiamo i tempi con quelli dei casi migliori.\n",
    "\n",
    "#### Caso peggiore\n",
    "In queste osservazioni si considerano i tempi quando gli elementi da ordinare sono già ordinati ma in maniera opposta rispetto all'ordinamento imposto dall'algoritmo. Con *Insertion Sort* avevamo un tempo teorico pari a $\\Theta(n^2)$, mentre con *Merge Sort* questo era pari a $\\Theta(n\\log_2n)$."
   ]
  },
  {
   "cell_type": "code",
   "execution_count": 9,
   "metadata": {},
   "outputs": [
    {
     "data": {
      "image/png": "[encoded data removed]",
      "text/plain": [
       "<Figure size 640x480 with 1 Axes>"
      ]
     },
     "metadata": {},
     "output_type": "display_data"
    },
    {
     "data": {
      "text/html": [
       "<div>\n",
       "<style scoped>\n",
       "    .dataframe tbody tr th:only-of-type {\n",
       "        vertical-align: middle;\n",
       "    }\n",
       "\n",
       "    .dataframe tbody tr th {\n",
       "        vertical-align: top;\n",
       "    }\n",
       "\n",
       "    .dataframe thead th {\n",
       "        text-align: right;\n",
       "    }\n",
       "</style>\n",
       "<table border=\"1\" class=\"dataframe\">\n",
       "  <thead>\n",
       "    <tr style=\"text-align: right;\">\n",
       "      <th></th>\n",
       "      <th>Elementi</th>\n",
       "      <th>Insertion Sort</th>\n",
       "      <th>Merge Sort</th>\n",
       "    </tr>\n",
       "  </thead>\n",
       "  <tbody>\n",
       "    <tr>\n",
       "      <th>0</th>\n",
       "      <td>500</td>\n",
       "      <td>0.021734</td>\n",
       "      <td>0.001328</td>\n",
       "    </tr>\n",
       "    <tr>\n",
       "      <th>1</th>\n",
       "      <td>1000</td>\n",
       "      <td>0.063431</td>\n",
       "      <td>0.002956</td>\n",
       "    </tr>\n",
       "    <tr>\n",
       "      <th>2</th>\n",
       "      <td>1500</td>\n",
       "      <td>0.146369</td>\n",
       "      <td>0.008826</td>\n",
       "    </tr>\n",
       "    <tr>\n",
       "      <th>3</th>\n",
       "      <td>2000</td>\n",
       "      <td>0.304116</td>\n",
       "      <td>0.005858</td>\n",
       "    </tr>\n",
       "    <tr>\n",
       "      <th>4</th>\n",
       "      <td>2500</td>\n",
       "      <td>0.435419</td>\n",
       "      <td>0.011607</td>\n",
       "    </tr>\n",
       "    <tr>\n",
       "      <th>5</th>\n",
       "      <td>3000</td>\n",
       "      <td>0.582013</td>\n",
       "      <td>0.011516</td>\n",
       "    </tr>\n",
       "    <tr>\n",
       "      <th>6</th>\n",
       "      <td>3500</td>\n",
       "      <td>0.797272</td>\n",
       "      <td>0.012774</td>\n",
       "    </tr>\n",
       "    <tr>\n",
       "      <th>7</th>\n",
       "      <td>4000</td>\n",
       "      <td>1.159940</td>\n",
       "      <td>0.018737</td>\n",
       "    </tr>\n",
       "    <tr>\n",
       "      <th>8</th>\n",
       "      <td>4500</td>\n",
       "      <td>1.395259</td>\n",
       "      <td>0.026535</td>\n",
       "    </tr>\n",
       "    <tr>\n",
       "      <th>9</th>\n",
       "      <td>5000</td>\n",
       "      <td>1.775692</td>\n",
       "      <td>0.020484</td>\n",
       "    </tr>\n",
       "  </tbody>\n",
       "</table>\n",
       "</div>"
      ],
      "text/plain": [
       "   Elementi  Insertion Sort  Merge Sort\n",
       "0       500        0.021734    0.001328\n",
       "1      1000        0.063431    0.002956\n",
       "2      1500        0.146369    0.008826\n",
       "3      2000        0.304116    0.005858\n",
       "4      2500        0.435419    0.011607\n",
       "5      3000        0.582013    0.011516\n",
       "6      3500        0.797272    0.012774\n",
       "7      4000        1.159940    0.018737\n",
       "8      4500        1.395259    0.026535\n",
       "9      5000        1.775692    0.020484"
      ]
     },
     "metadata": {},
     "output_type": "display_data"
    }
   ],
   "source": [
    "show_plot(\"worst\")"
   ]
  },
  {
   "cell_type": "markdown",
   "metadata": {},
   "source": [
    "Anche in questo caso si riconfermano i tempi teorici, mostrando per *Insertion Sort* una curva quadratica e per *Merge Sort* una curva pressochè lineare. Rispetto al caso precedente notiamo che i tempi per *Insertion Sort* superano il secondo e mezzo con 5000 elementi, rispetto al $\\sim$ 1 secondo del caso medio, mentre per *Insertion Sort* i tempi calano, passando da $\\sim$ 40 millisecondi a $\\sim$ 20 millisecondi."
   ]
  },
  {
   "cell_type": "markdown",
   "metadata": {},
   "source": [
    "## Considerazioni finali\n",
    "Grazie ai test si confermano le considerazioni iniziali relative alla complessità temporale. Inoltre per *Merge Sort* si può notare come il caso medio sia invece il caso in cui l'algoritmo si comporta in maniera peggiore, probabilmente per via di ottimizzazioni che *Python* riesce a svolgere durante il confronto tra gli elementi nella funzione *merge*.\n",
    "\n",
    "Concludendo sulla complessita temporale, sappiamo che *Merge Sort* si comporta meglio rispetto a *Insertion Sort* in tutti i casi eccetto il caso migliore. Eventualmente potremmo cercare di eguagliare il costo di *Merge Sort* a quello di *Insertion Sort* anche nel caso migliore, aggiungendo un controllo sulla lista che verifica che tutti gli elementi siano già ordinati, richiedendo un tempo pari a $\\Theta(n)$, quindi il costo finale di *Merge Sort* sarebbe $\\Theta(n + n\\log_2n) = O(n\\log_2n) \\simeq \\Theta(n)$, ma andrebbe a peggiorare i tempi in tutti gli altri casi."
   ]
  }
 ],
 "metadata": {
  "kernelspec": {
   "display_name": "unifilabalgo",
   "language": "python",
   "name": "python3"
  },
  "language_info": {
   "codemirror_mode": {
    "name": "ipython",
    "version": 3
   },
   "file_extension": ".py",
   "mimetype": "text/x-python",
   "name": "python",
   "nbconvert_exporter": "python",
   "pygments_lexer": "ipython3",
   "version": "3.11.5"
  },
  "orig_nbformat": 4
 },
 "nbformat": 4,
 "nbformat_minor": 2
}
