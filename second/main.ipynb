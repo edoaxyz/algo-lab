{
 "cells": [
  {
   "cell_type": "markdown",
   "metadata": {},
   "source": [
    "## <center><sub><sup><sub><sup>Relazione di</sup></sub></sup></sub> <br> Laboratorio di Algoritmi e Strutture Dati</center>\n",
    "\n",
    "In questo Jupyter Notebook affronteremo il secondo esercizio assegnato: confronto tra gli algoritmi di ordinamento *Insertion Sort* e *Merge Sort*. Per eseguire questo notebook utilizzeremo la versione 11.3.5 di Python.\n",
    "\n",
    "### Introduzione al problema\n",
    "Gli algoritmi di ordinamento vengono utilizzati per risolvere il problema dell'ordinamento: data una sequenza di $n$ numeri $A = <a_1, a_2, ..., a_n>$ trovare una permutazione di $A$ che chiameremo $A'=<a_1', a_2', ..., a_n'>$ con $a_i' \\in A$ tale che $a_i' \\leq a_{i+1}' \\, \\forall i \\in {1, ... n-1}$. Tra i più noti abbiamo: *Bubble Sort*, *Insertion Sort*, *Merge Sort*, *Quicksort*, *Heap sort*.\n",
    "\n",
    "#### Insertion Sort\n",
    "Questo tipo di ordinamento è tale per cui ogni elemento viene confrontato con i precedenti per verificare se sia maggiore rispetto ad essi e nel caso non lo sia sposta tutti gli elementi dopo quello maggiore ad esso verso destra per inserirlo subito prima del maggiore. L'ordinamento avviene quindi sul posto, senza necessità di dover creare ulteriori sequenze di elementi. Si può comprendere\n",
    "meglio attraverso il suo codice *Python*:"
   ]
  },
  {
   "cell_type": "code",
   "execution_count": 3,
   "metadata": {},
   "outputs": [],
   "source": [
    "def insertion_sort(A: list):\n",
    "    for j in range(1, len(A)):\n",
    "        key = A[j]\n",
    "        i = j - 1\n",
    "        while i >= 0 and A[i] > key:\n",
    "            A[i + 1] = A[i]\n",
    "            i -= 1\n",
    "        A[i + 1] = key"
   ]
  },
  {
   "cell_type": "markdown",
   "metadata": {},
   "source": [
    "dove `A` è una lista contenente numeri.\n",
    "\n",
    "Analizzando la complessità temporale di *Insertion Sort* con $n$ elementi si può notare che:\n",
    " - nel caso migliore, ovvero quando tutti gli elementi sono già ordinati, l'algoritmo impiega un tempo pari a $\\Theta(n)$;\n",
    " - nel resto dei casi, ovvero casi medi e peggiori, l'algoritmo impiega un tempo pari a $\\Theta(n^2)$ quindi quadratico.\n",
    "\n",
    "Per quanto riguarda la complessità spaziale, come detto precedentemente, gli elementi vengono scambiati della lista vengono scambiati sul posto e non c'è alcuna ulteriore occupazione di memoria, se non quella della lista, quindi si considera questa come $\\Theta(1)$.\n",
    "\n",
    "### Merge sort\n",
    "\n",
    "L'algoritmo di *Merge Sort* si basa sull'approccio *Divide et impera*, per cui il problema di ordinamento viene diviso ricorsivamente in due sottoproblemi fino quando la lista da ordinare non è composta da un solo elemento: in quel caso la lista è implicitamente ordinata e quindi si ha il caso base della ricorsione. *Merge sort* quindi divide ad ogni passo la lista in esame in due sottoliste rispetto all'elemento centrale della lista, e utilizza richiamando lo stesso algoritmo su di esse; una volta che gli algoritmi terminano si riordinano gli elementi delle due sottoliste ordinate in modo tale da avere la lista originaria ordinata. Vediamo l'algoritmo scritto in *Python*:"
   ]
  },
  {
   "cell_type": "code",
   "execution_count": 10,
   "metadata": {},
   "outputs": [],
   "source": [
    "def merge(A: list, start: int, middle: int, end: int):\n",
    "    n1 = middle - start + 1\n",
    "    n2 = end - middle\n",
    "    left = [A[start + i - 1] for i in range(n1)]\n",
    "    right = [A[middle + i] for i in range(n2)]\n",
    "    left.append(float(\"inf\"))\n",
    "    right.append(float(\"inf\"))\n",
    "    i = 0\n",
    "    j = 0\n",
    "    for k in range(start, end):\n",
    "        if left[i] <= right[j]:\n",
    "            A[k] = left[i]\n",
    "            i += 1\n",
    "        else:\n",
    "            A[k] = right[i]\n",
    "            j += 1\n",
    "\n",
    "\n",
    "def merge_sort(A: list, start: int = 0, end: int = -1):\n",
    "    if end == -1:\n",
    "        end = len(A)\n",
    "    if start < end:\n",
    "        middle = int((start + end) / 2)\n",
    "        merge_sort(A, start, middle)\n",
    "        merge_sort(A, middle + 1, end)\n",
    "        merge(A, start, middle, end)"
   ]
  },
  {
   "cell_type": "markdown",
   "metadata": {},
   "source": [
    "e la chiamata iniziale all'algoritmo viene fatta semplicemente chiamando <code>merge_sort(*lista*)</code>.\n",
    "\n",
    "Anche in questo caso possiamo analizzare la complessità temporale, che risulta migliore in gran parte dei casi rispetto a *Insertion Sort*, infatti in tutti i casi (peggiore, migliore e medio) l'algoritmo ha sempre un costo pari a $\\Theta(nlog_2n)$ con $n$ numero di elementi nella lista. Solo nel caso migliore si ha un costo maggiore rispetto a *Insertion Sort*. Analizzando invece la complessità spaziale si nota che ad ogni passo della ricorsione, l'algoritmo si crea una copia di una parte (o di tutta) la lista originale, pertanto ha una complessità spaziale pari a $O(n)$."
   ]
  },
  {
   "cell_type": "code",
   "execution_count": 7,
   "metadata": {},
   "outputs": [
    {
     "name": "stdout",
     "output_type": "stream",
     "text": [
      "The blackcellmagic extension is already loaded. To reload it, use:\n",
      "  %reload_ext blackcellmagic\n"
     ]
    }
   ],
   "source": [
    "%load_ext blackcellmagic\n"
   ]
  }
 ],
 "metadata": {
  "kernelspec": {
   "display_name": "unifilabalgo",
   "language": "python",
   "name": "python3"
  },
  "language_info": {
   "codemirror_mode": {
    "name": "ipython",
    "version": 3
   },
   "file_extension": ".py",
   "mimetype": "text/x-python",
   "name": "python",
   "nbconvert_exporter": "python",
   "pygments_lexer": "ipython3",
   "version": "3.11.5"
  },
  "orig_nbformat": 4
 },
 "nbformat": 4,
 "nbformat_minor": 2
}
